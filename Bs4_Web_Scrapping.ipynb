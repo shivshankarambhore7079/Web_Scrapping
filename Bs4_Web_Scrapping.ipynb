{
 "cells": [
  {
   "cell_type": "markdown",
   "metadata": {},
   "source": [
    "## Bs4 web Scrapping"
   ]
  },
  {
   "cell_type": "code",
   "execution_count": null,
   "metadata": {},
   "outputs": [],
   "source": [
    "from bs4 import BeautifulSoup as bs\n",
    "from urllib.request import urlopen as uReq"
   ]
  },
  {
   "cell_type": "code",
   "execution_count": 77,
   "metadata": {},
   "outputs": [],
   "source": [
    "my_url=\"https://www.flipkart.com/search?q=nokia+mobiles&sid=tyy%2C4io&as=on&as-show=on&otracker=AS_QueryStore_OrganicAutoSuggest_1_5_na_na_na&otracker1=AS_QueryStore_OrganicAutoSuggest_1_5_na_na_na&as-pos=1&as-type=RECENT&suggestionId=nokia+mobiles%7CMobiles&requestId=777d8382-fa17-4cf3-89d6-59882485fb71&as-backfill=on\""
   ]
  },
  {
   "cell_type": "code",
   "execution_count": 78,
   "metadata": {},
   "outputs": [],
   "source": [
    "uclient=uReq(my_url)\n",
    "page_html=uclient.read()"
   ]
  },
  {
   "cell_type": "code",
   "execution_count": 79,
   "metadata": {},
   "outputs": [],
   "source": [
    "uclient.close()"
   ]
  },
  {
   "cell_type": "code",
   "execution_count": 80,
   "metadata": {},
   "outputs": [],
   "source": [
    "page_soup=bs(page_html,\"html.parser\")"
   ]
  },
  {
   "cell_type": "code",
   "execution_count": 81,
   "metadata": {},
   "outputs": [],
   "source": [
    "container=page_soup.findAll(\"div\", {\"class\":\"_1UoZlX\"})"
   ]
  },
  {
   "cell_type": "code",
   "execution_count": null,
   "metadata": {},
   "outputs": [],
   "source": [
    "#len(container)"
   ]
  },
  {
   "cell_type": "code",
   "execution_count": null,
   "metadata": {},
   "outputs": [],
   "source": [
    "#bs.prettify(container[0])"
   ]
  },
  {
   "cell_type": "code",
   "execution_count": 54,
   "metadata": {},
   "outputs": [],
   "source": [
    "container1=container[0]"
   ]
  },
  {
   "cell_type": "code",
   "execution_count": 55,
   "metadata": {},
   "outputs": [
    {
     "data": {
      "text/plain": [
       "'Nokia 105 SS'"
      ]
     },
     "execution_count": 55,
     "metadata": {},
     "output_type": "execute_result"
    }
   ],
   "source": [
    "container1.div.img['alt']"
   ]
  },
  {
   "cell_type": "code",
   "execution_count": 56,
   "metadata": {},
   "outputs": [
    {
     "data": {
      "text/plain": [
       "'₹1,159₹1,2497% offNo Cost EMI'"
      ]
     },
     "execution_count": 56,
     "metadata": {},
     "output_type": "execute_result"
    }
   ],
   "source": [
    "price=container1.findAll(\"div\",{\"class\":\"col col-5-12 _2o7WAb\"})\n",
    "price[0].text"
   ]
  },
  {
   "cell_type": "code",
   "execution_count": 85,
   "metadata": {},
   "outputs": [
    {
     "data": {
      "text/plain": [
       "'4.3'"
      ]
     },
     "execution_count": 85,
     "metadata": {},
     "output_type": "execute_result"
    }
   ],
   "source": [
    "ratting=container1.findAll(\"div\",{\"class\":\"hGSR34\"})\n",
    "ratting[0].text"
   ]
  },
  {
   "cell_type": "code",
   "execution_count": 58,
   "metadata": {},
   "outputs": [],
   "source": [
    "filename=\"web.csv\"\n",
    "f=open(filename,\"w\")"
   ]
  },
  {
   "cell_type": "code",
   "execution_count": 59,
   "metadata": {},
   "outputs": [
    {
     "data": {
      "text/plain": [
       "27"
      ]
     },
     "execution_count": 59,
     "metadata": {},
     "output_type": "execute_result"
    }
   ],
   "source": [
    "headers=\"Product_name,price,Ratting\\n\"\n",
    "f.write(headers)"
   ]
  },
  {
   "cell_type": "code",
   "execution_count": 87,
   "metadata": {},
   "outputs": [],
   "source": [
    "for container1 in container:\n",
    "    Product_name=container1.div.img['alt']\n",
    "    price_of=container1.findAll(\"div\",{\"class\":\"col col-5-12 _2o7WAb\"})\n",
    "    price=price_of[0].text.strip()\n",
    "    ratting_of=container1.findAll(\"div\",{\"class\":\"hGSR34\"})\n",
    "    Ratting=ratting_of[0].text\n",
    "    \n",
    "#     print('Product_name'+Product_name)\n",
    "#     print('price'+price)\n",
    "#     print('Ratting'+Ratting)\n",
    "    "
   ]
  },
  {
   "cell_type": "code",
   "execution_count": 88,
   "metadata": {},
   "outputs": [],
   "source": [
    "temp={'Product_name':Product_name,\n",
    "'price':price,\n",
    "'Ratting':Ratting\n",
    "     }"
   ]
  },
  {
   "cell_type": "code",
   "execution_count": 89,
   "metadata": {},
   "outputs": [
    {
     "data": {
      "text/plain": [
       "{'Product_name': 'Nokia 105 SS', 'price': '₹1,249', 'Ratting': '4.3'}"
      ]
     },
     "execution_count": 89,
     "metadata": {},
     "output_type": "execute_result"
    }
   ],
   "source": [
    "temp"
   ]
  },
  {
   "cell_type": "code",
   "execution_count": 98,
   "metadata": {},
   "outputs": [
    {
     "name": "stdout",
     "output_type": "stream",
     "text": [
      "Nokia 105 SS\n"
     ]
    }
   ],
   "source": [
    "    trim=\"\".join(price.split(\",\"))\n",
    "    rm=trim.split(\"₹\")\n",
    "    add=\"Rs.\"+rm[1]\n",
    "    split_price=add.split(\"N\")\n",
    "    final_price=split_price[0]\n",
    "\n",
    "    rm_ratting=Ratting.split(\" \")\n",
    "    final_ratting=rm_ratting[0]\n",
    "    print(Product_name.replace(\",\",\"|\"+\",\"+final_price+\",\"+final_ratting+\"\\n\"))\n",
    "\n"
   ]
  },
  {
   "cell_type": "code",
   "execution_count": 104,
   "metadata": {
    "collapsed": true
   },
   "outputs": [
    {
     "name": "stdout",
     "output_type": "stream",
     "text": [
      "Nokia 105 SS\n",
      "Nokia 105 SS\n",
      "Nokia 105 SS\n",
      "Nokia 105 ss\n",
      "Nokia 105\n",
      "Nokia 105 Dual Sim 2017\n",
      "Nokia 106\n",
      "Nokia 110\n",
      "Nokia 105\n",
      "Nokia 110\n",
      "Nokia 110\n",
      "Nokia 3310 DS\n",
      "Nokia 3.1 Plus (Charcoal|,Rs.11499,4.2\n",
      " 32 GB)\n",
      "Nokia 3.1 Plus (White|,Rs.11499,4.2\n",
      " 32 GB)\n",
      "Nokia 4.2 (Black|,Rs.10099,4.1\n",
      " 32 GB)\n",
      "Nokia 5.1 Plus (Black|,Rs.14997,4.1\n",
      " 64 GB)\n",
      "Nokia 6.1 Plus (Black|,Rs.9499,4.3\n",
      " 64 GB)\n",
      "Nokia 6.2 (Black|,Rs.15998,4.2\n",
      " 64 GB)\n",
      "Nokia 5 (Tempered Blue|,Rs.11990,4\n",
      " 16 GB)\n",
      "Nokia 105 SS\n",
      "Nokia 105 SS\n",
      "Nokia 8 Sirocco (Black|,Rs.54999,4.3\n",
      " 128 GB)\n",
      "Nokia 105 SS\n",
      "Nokia 105\n"
     ]
    }
   ],
   "source": [
    "from bs4 import BeautifulSoup as bs\n",
    "from urllib.request import urlopen as uReq\n",
    "\n",
    "my_url=\"https://www.flipkart.com/search?q=nokia+mobiles&sid=tyy%2C4io&as=on&as-show=on&otracker=AS_QueryStore_OrganicAutoSuggest_1_5_na_na_na&otracker1=AS_QueryStore_OrganicAutoSuggest_1_5_na_na_na&as-pos=1&as-type=RECENT&suggestionId=nokia+mobiles%7CMobiles&requestId=777d8382-fa17-4cf3-89d6-59882485fb71&as-backfill=on\"\n",
    "\n",
    "uclient=uReq(my_url)\n",
    "page_html=uclient.read()\n",
    "\n",
    "uclient.close()\n",
    "\n",
    "page_soup=bs(page_html,\"html.parser\")\n",
    "\n",
    "container=page_soup.findAll(\"div\", {\"class\":\"_1UoZlX\"})\n",
    "container1=container[0]\n",
    "container1.div.img['alt']\n",
    "\n",
    "filename=\"web7.csv\"\n",
    "f=open(filename,\"w\")\n",
    "headers=\"Product_name,price,Ratting\\n\"\n",
    "f.write(headers)\n",
    "\n",
    "for container1 in container:\n",
    "    Product_name=container1.div.img['alt']\n",
    "    price_of=container1.findAll(\"div\",{\"class\":\"col col-5-12 _2o7WAb\"})\n",
    "    price=price_of[0].text.strip()\n",
    "    ratting_of=container1.findAll(\"div\",{\"class\":\"hGSR34\"})\n",
    "    Ratting=ratting_of[0].text\n",
    "    \n",
    "    trim=\"\".join(price.split(\",\"))\n",
    "    rm=trim.split(\"₹\")\n",
    "    add=\"Rs.\"+rm[1]\n",
    "    split_price=add.split(\"N\")\n",
    "    final_price=split_price[0]\n",
    "\n",
    "    rm_ratting=Ratting.split(\" \")\n",
    "    final_ratting=rm_ratting[0]\n",
    "\n",
    "    print(Product_name.replace(\",\",\"|\"+\",\"+final_price+\",\"+final_ratting+\"\\n\"))\n",
    "    f.write(Product_name.replace(\",\",\"|\"+\",\"+final_price+\",\"+final_ratting+\"\\n\"))\n",
    "f.close() "
   ]
  },
  {
   "cell_type": "code",
   "execution_count": null,
   "metadata": {},
   "outputs": [],
   "source": []
  },
  {
   "cell_type": "code",
   "execution_count": null,
   "metadata": {},
   "outputs": [],
   "source": []
  }
 ],
 "metadata": {
  "kernelspec": {
   "display_name": "Python 3",
   "language": "python",
   "name": "python3"
  },
  "language_info": {
   "codemirror_mode": {
    "name": "ipython",
    "version": 3
   },
   "file_extension": ".py",
   "mimetype": "text/x-python",
   "name": "python",
   "nbconvert_exporter": "python",
   "pygments_lexer": "ipython3",
   "version": "3.7.1"
  }
 },
 "nbformat": 4,
 "nbformat_minor": 2
}
